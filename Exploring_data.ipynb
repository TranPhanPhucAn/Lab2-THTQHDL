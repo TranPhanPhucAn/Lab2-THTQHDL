{
 "cells": [
  {
   "cell_type": "markdown",
   "id": "9e772c4d-d41d-4faa-a8c9-67ac476fbe05",
   "metadata": {},
   "source": [
    "<div style=\"text-align: center; background-color: #0A6EBD; font-family: 'Trebuchet MS', Arial, sans-serif; color: white; padding: 20px; font-size: 40px; font-weight: bold; border-radius: 0 0 0 0; box-shadow: 0px 6px 8px rgba(0, 0, 0, 0.2);\">\n",
    " Lab 2 Data Visualization\n",
    "</div>"
   ]
  },
  {
   "cell_type": "markdown",
   "id": "52cdffdc-1705-4bc0-8879-ce30974ae5bf",
   "metadata": {},
   "source": [
    "<div style=\"text-align: center; background-color: #5A96E3; font-family: 'Trebuchet MS', Arial, sans-serif; color: white; padding: 20px; font-size: 40px; font-weight: bold; border-radius: 0 0 0 0; box-shadow: 0px 6px 8px rgba(0, 0, 0, 0.2);\">\n",
    "  Exploring Data</div>"
   ]
  },
  {
   "cell_type": "markdown",
   "id": "5f650387-a185-4a4f-a4b0-02a5d0f1ecb8",
   "metadata": {},
   "source": [
    "## Import libraries"
   ]
  },
  {
   "cell_type": "code",
   "execution_count": 1,
   "id": "e9bfadef-59f7-4438-9614-0920f8c9a933",
   "metadata": {
    "metadata": {}
   },
   "outputs": [],
   "source": [
    "import numpy as np\n",
    "import pandas as pd\n",
    "import matplotlib.pyplot as plt\n",
    "import seaborn as sns\n",
    "import warnings \n",
    "warnings.filterwarnings('ignore')\n",
    "from datetime import datetime"
   ]
  },
  {
   "cell_type": "markdown",
   "id": "2f505e9c-3f3c-43e2-ad3f-2cc2d6ea7048",
   "metadata": {},
   "source": [
    "## Read data from csv file"
   ]
  },
  {
   "cell_type": "code",
   "execution_count": 2,
   "id": "cfee663b-2158-408a-9a60-f5e2b53e05b6",
   "metadata": {
    "metadata": {}
   },
   "outputs": [],
   "source": [
    "billion_df = pd.read_csv(\"./Data/data.csv\")"
   ]
  },
  {
   "cell_type": "code",
   "execution_count": 3,
   "id": "1e3d6e7e-59d5-4157-bf5f-ddabac30ef71",
   "metadata": {
    "metadata": {}
   },
   "outputs": [
    {
     "data": {
      "text/html": [
       "<div>\n",
       "<style scoped>\n",
       "    .dataframe tbody tr th:only-of-type {\n",
       "        vertical-align: middle;\n",
       "    }\n",
       "\n",
       "    .dataframe tbody tr th {\n",
       "        vertical-align: top;\n",
       "    }\n",
       "\n",
       "    .dataframe thead th {\n",
       "        text-align: right;\n",
       "    }\n",
       "</style>\n",
       "<table border=\"1\" class=\"dataframe\">\n",
       "  <thead>\n",
       "    <tr style=\"text-align: right;\">\n",
       "      <th></th>\n",
       "      <th>rank</th>\n",
       "      <th>finalWorth</th>\n",
       "      <th>category</th>\n",
       "      <th>personName</th>\n",
       "      <th>age</th>\n",
       "      <th>country</th>\n",
       "      <th>city</th>\n",
       "      <th>source</th>\n",
       "      <th>industries</th>\n",
       "      <th>countryOfCitizenship</th>\n",
       "      <th>...</th>\n",
       "      <th>cpi_change_country</th>\n",
       "      <th>gdp_country</th>\n",
       "      <th>gross_tertiary_education_enrollment</th>\n",
       "      <th>gross_primary_education_enrollment_country</th>\n",
       "      <th>life_expectancy_country</th>\n",
       "      <th>tax_revenue_country_country</th>\n",
       "      <th>total_tax_rate_country</th>\n",
       "      <th>population_country</th>\n",
       "      <th>latitude_country</th>\n",
       "      <th>longitude_country</th>\n",
       "    </tr>\n",
       "  </thead>\n",
       "  <tbody>\n",
       "    <tr>\n",
       "      <th>0</th>\n",
       "      <td>1</td>\n",
       "      <td>211000</td>\n",
       "      <td>Fashion &amp; Retail</td>\n",
       "      <td>Bernard Arnault &amp; family</td>\n",
       "      <td>74.0</td>\n",
       "      <td>France</td>\n",
       "      <td>Paris</td>\n",
       "      <td>LVMH</td>\n",
       "      <td>Fashion &amp; Retail</td>\n",
       "      <td>France</td>\n",
       "      <td>...</td>\n",
       "      <td>1.1</td>\n",
       "      <td>$2,715,518,274,227</td>\n",
       "      <td>65.6</td>\n",
       "      <td>102.5</td>\n",
       "      <td>82.5</td>\n",
       "      <td>24.2</td>\n",
       "      <td>60.7</td>\n",
       "      <td>6.705989e+07</td>\n",
       "      <td>46.227638</td>\n",
       "      <td>2.213749</td>\n",
       "    </tr>\n",
       "    <tr>\n",
       "      <th>1</th>\n",
       "      <td>2</td>\n",
       "      <td>180000</td>\n",
       "      <td>Automotive</td>\n",
       "      <td>Elon Musk</td>\n",
       "      <td>51.0</td>\n",
       "      <td>United States</td>\n",
       "      <td>Austin</td>\n",
       "      <td>Tesla, SpaceX</td>\n",
       "      <td>Automotive</td>\n",
       "      <td>United States</td>\n",
       "      <td>...</td>\n",
       "      <td>7.5</td>\n",
       "      <td>$21,427,700,000,000</td>\n",
       "      <td>88.2</td>\n",
       "      <td>101.8</td>\n",
       "      <td>78.5</td>\n",
       "      <td>9.6</td>\n",
       "      <td>36.6</td>\n",
       "      <td>3.282395e+08</td>\n",
       "      <td>37.090240</td>\n",
       "      <td>-95.712891</td>\n",
       "    </tr>\n",
       "    <tr>\n",
       "      <th>2</th>\n",
       "      <td>3</td>\n",
       "      <td>114000</td>\n",
       "      <td>Technology</td>\n",
       "      <td>Jeff Bezos</td>\n",
       "      <td>59.0</td>\n",
       "      <td>United States</td>\n",
       "      <td>Medina</td>\n",
       "      <td>Amazon</td>\n",
       "      <td>Technology</td>\n",
       "      <td>United States</td>\n",
       "      <td>...</td>\n",
       "      <td>7.5</td>\n",
       "      <td>$21,427,700,000,000</td>\n",
       "      <td>88.2</td>\n",
       "      <td>101.8</td>\n",
       "      <td>78.5</td>\n",
       "      <td>9.6</td>\n",
       "      <td>36.6</td>\n",
       "      <td>3.282395e+08</td>\n",
       "      <td>37.090240</td>\n",
       "      <td>-95.712891</td>\n",
       "    </tr>\n",
       "    <tr>\n",
       "      <th>3</th>\n",
       "      <td>4</td>\n",
       "      <td>107000</td>\n",
       "      <td>Technology</td>\n",
       "      <td>Larry Ellison</td>\n",
       "      <td>78.0</td>\n",
       "      <td>United States</td>\n",
       "      <td>Lanai</td>\n",
       "      <td>Oracle</td>\n",
       "      <td>Technology</td>\n",
       "      <td>United States</td>\n",
       "      <td>...</td>\n",
       "      <td>7.5</td>\n",
       "      <td>$21,427,700,000,000</td>\n",
       "      <td>88.2</td>\n",
       "      <td>101.8</td>\n",
       "      <td>78.5</td>\n",
       "      <td>9.6</td>\n",
       "      <td>36.6</td>\n",
       "      <td>3.282395e+08</td>\n",
       "      <td>37.090240</td>\n",
       "      <td>-95.712891</td>\n",
       "    </tr>\n",
       "    <tr>\n",
       "      <th>4</th>\n",
       "      <td>5</td>\n",
       "      <td>106000</td>\n",
       "      <td>Finance &amp; Investments</td>\n",
       "      <td>Warren Buffett</td>\n",
       "      <td>92.0</td>\n",
       "      <td>United States</td>\n",
       "      <td>Omaha</td>\n",
       "      <td>Berkshire Hathaway</td>\n",
       "      <td>Finance &amp; Investments</td>\n",
       "      <td>United States</td>\n",
       "      <td>...</td>\n",
       "      <td>7.5</td>\n",
       "      <td>$21,427,700,000,000</td>\n",
       "      <td>88.2</td>\n",
       "      <td>101.8</td>\n",
       "      <td>78.5</td>\n",
       "      <td>9.6</td>\n",
       "      <td>36.6</td>\n",
       "      <td>3.282395e+08</td>\n",
       "      <td>37.090240</td>\n",
       "      <td>-95.712891</td>\n",
       "    </tr>\n",
       "    <tr>\n",
       "      <th>5</th>\n",
       "      <td>6</td>\n",
       "      <td>104000</td>\n",
       "      <td>Technology</td>\n",
       "      <td>Bill Gates</td>\n",
       "      <td>67.0</td>\n",
       "      <td>United States</td>\n",
       "      <td>Medina</td>\n",
       "      <td>Microsoft</td>\n",
       "      <td>Technology</td>\n",
       "      <td>United States</td>\n",
       "      <td>...</td>\n",
       "      <td>7.5</td>\n",
       "      <td>$21,427,700,000,000</td>\n",
       "      <td>88.2</td>\n",
       "      <td>101.8</td>\n",
       "      <td>78.5</td>\n",
       "      <td>9.6</td>\n",
       "      <td>36.6</td>\n",
       "      <td>3.282395e+08</td>\n",
       "      <td>37.090240</td>\n",
       "      <td>-95.712891</td>\n",
       "    </tr>\n",
       "    <tr>\n",
       "      <th>6</th>\n",
       "      <td>7</td>\n",
       "      <td>94500</td>\n",
       "      <td>Media &amp; Entertainment</td>\n",
       "      <td>Michael Bloomberg</td>\n",
       "      <td>81.0</td>\n",
       "      <td>United States</td>\n",
       "      <td>New York</td>\n",
       "      <td>Bloomberg LP</td>\n",
       "      <td>Media &amp; Entertainment</td>\n",
       "      <td>United States</td>\n",
       "      <td>...</td>\n",
       "      <td>7.5</td>\n",
       "      <td>$21,427,700,000,000</td>\n",
       "      <td>88.2</td>\n",
       "      <td>101.8</td>\n",
       "      <td>78.5</td>\n",
       "      <td>9.6</td>\n",
       "      <td>36.6</td>\n",
       "      <td>3.282395e+08</td>\n",
       "      <td>37.090240</td>\n",
       "      <td>-95.712891</td>\n",
       "    </tr>\n",
       "    <tr>\n",
       "      <th>7</th>\n",
       "      <td>8</td>\n",
       "      <td>93000</td>\n",
       "      <td>Telecom</td>\n",
       "      <td>Carlos Slim Helu &amp; family</td>\n",
       "      <td>83.0</td>\n",
       "      <td>Mexico</td>\n",
       "      <td>Mexico City</td>\n",
       "      <td>Telecom</td>\n",
       "      <td>Telecom</td>\n",
       "      <td>Mexico</td>\n",
       "      <td>...</td>\n",
       "      <td>3.6</td>\n",
       "      <td>$1,258,286,717,125</td>\n",
       "      <td>40.2</td>\n",
       "      <td>105.8</td>\n",
       "      <td>75.0</td>\n",
       "      <td>13.1</td>\n",
       "      <td>55.1</td>\n",
       "      <td>1.260140e+08</td>\n",
       "      <td>23.634501</td>\n",
       "      <td>-102.552784</td>\n",
       "    </tr>\n",
       "    <tr>\n",
       "      <th>8</th>\n",
       "      <td>9</td>\n",
       "      <td>83400</td>\n",
       "      <td>Diversified</td>\n",
       "      <td>Mukesh Ambani</td>\n",
       "      <td>65.0</td>\n",
       "      <td>India</td>\n",
       "      <td>Mumbai</td>\n",
       "      <td>Diversified</td>\n",
       "      <td>Diversified</td>\n",
       "      <td>India</td>\n",
       "      <td>...</td>\n",
       "      <td>7.7</td>\n",
       "      <td>$2,611,000,000,000</td>\n",
       "      <td>28.1</td>\n",
       "      <td>113.0</td>\n",
       "      <td>69.4</td>\n",
       "      <td>11.2</td>\n",
       "      <td>49.7</td>\n",
       "      <td>1.366418e+09</td>\n",
       "      <td>20.593684</td>\n",
       "      <td>78.962880</td>\n",
       "    </tr>\n",
       "    <tr>\n",
       "      <th>9</th>\n",
       "      <td>10</td>\n",
       "      <td>80700</td>\n",
       "      <td>Technology</td>\n",
       "      <td>Steve Ballmer</td>\n",
       "      <td>67.0</td>\n",
       "      <td>United States</td>\n",
       "      <td>Hunts Point</td>\n",
       "      <td>Microsoft</td>\n",
       "      <td>Technology</td>\n",
       "      <td>United States</td>\n",
       "      <td>...</td>\n",
       "      <td>7.5</td>\n",
       "      <td>$21,427,700,000,000</td>\n",
       "      <td>88.2</td>\n",
       "      <td>101.8</td>\n",
       "      <td>78.5</td>\n",
       "      <td>9.6</td>\n",
       "      <td>36.6</td>\n",
       "      <td>3.282395e+08</td>\n",
       "      <td>37.090240</td>\n",
       "      <td>-95.712891</td>\n",
       "    </tr>\n",
       "  </tbody>\n",
       "</table>\n",
       "<p>10 rows × 35 columns</p>\n",
       "</div>"
      ],
      "text/plain": [
       "   rank  finalWorth               category                 personName   age  \\\n",
       "0     1      211000       Fashion & Retail   Bernard Arnault & family  74.0   \n",
       "1     2      180000             Automotive                  Elon Musk  51.0   \n",
       "2     3      114000             Technology                 Jeff Bezos  59.0   \n",
       "3     4      107000             Technology              Larry Ellison  78.0   \n",
       "4     5      106000  Finance & Investments             Warren Buffett  92.0   \n",
       "5     6      104000             Technology                 Bill Gates  67.0   \n",
       "6     7       94500  Media & Entertainment          Michael Bloomberg  81.0   \n",
       "7     8       93000                Telecom  Carlos Slim Helu & family  83.0   \n",
       "8     9       83400            Diversified              Mukesh Ambani  65.0   \n",
       "9    10       80700             Technology              Steve Ballmer  67.0   \n",
       "\n",
       "         country         city              source             industries  \\\n",
       "0         France        Paris                LVMH       Fashion & Retail   \n",
       "1  United States       Austin       Tesla, SpaceX             Automotive   \n",
       "2  United States       Medina              Amazon             Technology   \n",
       "3  United States        Lanai              Oracle             Technology   \n",
       "4  United States        Omaha  Berkshire Hathaway  Finance & Investments   \n",
       "5  United States       Medina           Microsoft             Technology   \n",
       "6  United States     New York        Bloomberg LP  Media & Entertainment   \n",
       "7         Mexico  Mexico City             Telecom                Telecom   \n",
       "8          India       Mumbai         Diversified            Diversified   \n",
       "9  United States  Hunts Point           Microsoft             Technology   \n",
       "\n",
       "  countryOfCitizenship  ... cpi_change_country           gdp_country  \\\n",
       "0               France  ...                1.1   $2,715,518,274,227    \n",
       "1        United States  ...                7.5  $21,427,700,000,000    \n",
       "2        United States  ...                7.5  $21,427,700,000,000    \n",
       "3        United States  ...                7.5  $21,427,700,000,000    \n",
       "4        United States  ...                7.5  $21,427,700,000,000    \n",
       "5        United States  ...                7.5  $21,427,700,000,000    \n",
       "6        United States  ...                7.5  $21,427,700,000,000    \n",
       "7               Mexico  ...                3.6   $1,258,286,717,125    \n",
       "8                India  ...                7.7   $2,611,000,000,000    \n",
       "9        United States  ...                7.5  $21,427,700,000,000    \n",
       "\n",
       "  gross_tertiary_education_enrollment  \\\n",
       "0                                65.6   \n",
       "1                                88.2   \n",
       "2                                88.2   \n",
       "3                                88.2   \n",
       "4                                88.2   \n",
       "5                                88.2   \n",
       "6                                88.2   \n",
       "7                                40.2   \n",
       "8                                28.1   \n",
       "9                                88.2   \n",
       "\n",
       "  gross_primary_education_enrollment_country life_expectancy_country  \\\n",
       "0                                      102.5                    82.5   \n",
       "1                                      101.8                    78.5   \n",
       "2                                      101.8                    78.5   \n",
       "3                                      101.8                    78.5   \n",
       "4                                      101.8                    78.5   \n",
       "5                                      101.8                    78.5   \n",
       "6                                      101.8                    78.5   \n",
       "7                                      105.8                    75.0   \n",
       "8                                      113.0                    69.4   \n",
       "9                                      101.8                    78.5   \n",
       "\n",
       "  tax_revenue_country_country total_tax_rate_country population_country  \\\n",
       "0                        24.2                   60.7       6.705989e+07   \n",
       "1                         9.6                   36.6       3.282395e+08   \n",
       "2                         9.6                   36.6       3.282395e+08   \n",
       "3                         9.6                   36.6       3.282395e+08   \n",
       "4                         9.6                   36.6       3.282395e+08   \n",
       "5                         9.6                   36.6       3.282395e+08   \n",
       "6                         9.6                   36.6       3.282395e+08   \n",
       "7                        13.1                   55.1       1.260140e+08   \n",
       "8                        11.2                   49.7       1.366418e+09   \n",
       "9                         9.6                   36.6       3.282395e+08   \n",
       "\n",
       "  latitude_country longitude_country  \n",
       "0        46.227638          2.213749  \n",
       "1        37.090240        -95.712891  \n",
       "2        37.090240        -95.712891  \n",
       "3        37.090240        -95.712891  \n",
       "4        37.090240        -95.712891  \n",
       "5        37.090240        -95.712891  \n",
       "6        37.090240        -95.712891  \n",
       "7        23.634501       -102.552784  \n",
       "8        20.593684         78.962880  \n",
       "9        37.090240        -95.712891  \n",
       "\n",
       "[10 rows x 35 columns]"
      ]
     },
     "execution_count": 3,
     "metadata": {},
     "output_type": "execute_result"
    }
   ],
   "source": [
    "billion_df.head(10)"
   ]
  },
  {
   "cell_type": "markdown",
   "id": "215e4fa9-5eb6-4b55-bc8d-5e56103610db",
   "metadata": {},
   "source": [
    "## Data Exploring"
   ]
  },
  {
   "cell_type": "markdown",
   "id": "f6b4a399-e1b7-4550-a652-4790b3a7ebdf",
   "metadata": {},
   "source": [
    "### How many rows and how many columns?"
   ]
  },
  {
   "cell_type": "code",
   "execution_count": 4,
   "id": "d7069ec6-44ef-46aa-a7a0-414a596366a7",
   "metadata": {
    "metadata": {}
   },
   "outputs": [
    {
     "name": "stdout",
     "output_type": "stream",
     "text": [
      "Your data has 2640 rows and 35 columns\n"
     ]
    }
   ],
   "source": [
    "num_rows = billion_df.shape[0]\n",
    "num_cols = billion_df.shape[1]\n",
    "print(f\"Your data has {num_rows} rows and {num_cols} columns\")"
   ]
  },
  {
   "cell_type": "markdown",
   "id": "c87d6e61-981a-4ab2-880f-dde367b5f209",
   "metadata": {},
   "source": [
    "### What is the meaning of each row?"
   ]
  },
  {
   "cell_type": "markdown",
   "id": "a02e86f6-3f12-47bf-9e04-c6b2a6ba7cdf",
   "metadata": {},
   "source": [
    "Each row represents information about a billionaire, covering a wide range of indicators and attributes. It encompasses finalWorth, category, personName, and much more."
   ]
  },
  {
   "cell_type": "markdown",
   "id": "4c717b14-0ce2-41be-b5f3-e70f1c37e496",
   "metadata": {},
   "source": [
    "### Are there duplicated rows?"
   ]
  },
  {
   "cell_type": "code",
   "execution_count": 5,
   "id": "2e63a175-15dc-49e9-aab0-f1aee15a42d7",
   "metadata": {
    "metadata": {}
   },
   "outputs": [
    {
     "name": "stdout",
     "output_type": "stream",
     "text": [
      "Your data has no duplicated row!\n"
     ]
    }
   ],
   "source": [
    "num_duplicated_rows = billion_df.duplicated().sum()\n",
    "if num_duplicated_rows:\n",
    "    print(f\"Your data has {num_duplicated_rows} duplicated rows\")\n",
    "else:\n",
    "    print(\"Your data has no duplicated row!\")"
   ]
  },
  {
   "cell_type": "markdown",
   "id": "35e3155b-7c6b-4cb9-8c3e-49f08820ce97",
   "metadata": {},
   "source": [
    "### What is the meaning of each column?"
   ]
  },
  {
   "cell_type": "markdown",
   "id": "13be359e-162f-4ca3-8971-95a7ba2515a9",
   "metadata": {},
   "source": [
    "- `rank`: The ranking of the billionaire in terms of wealth.\n",
    "- `finalWorth`: The final net worth of the billionaire in U.S. dollars.\n",
    "- `category`: The category or industry in which the billionaire's business operates.\n",
    "- `personName`: The full name of the billionaire.\n",
    "- `age`: The age of the billionaire.\n",
    "- `country`: The country in which the billionaire resides.\n",
    "- `city`: The city in which the billionaire resides.\n",
    "- `source`: The source of the billionaire's wealth.\n",
    "- `industries`: The industries associated with the billionaire's business interests.\n",
    "- `countryOfCitizenship`: The country of citizenship of the billionaire.\n",
    "- `organization`: The name of the organization or company associated with the billionaire.\n",
    "- `selfMade`: Indicates whether the billionaire is self-made (True/False).\n",
    "- `status`: \"D\" represents self-made billionaires (Founders/Entrepreneurs) and \"U\" indicates inherited or unearned wealth.\n",
    "- `gender`: The gender of the billionaire.\n",
    "- `birthDate`: The birthdate of the billionaire.\n",
    "- `lastName`: The last name of the billionaire.\n",
    "- `firstName`: The first name of the billionaire.\n",
    "- `title`: The title or honorific of the billionaire.\n",
    "- `date`: The date of data collection.\n",
    "- `state`: The state in which the billionaire resides.\n",
    "- `residenceStateRegion`: The region or state of residence of the billionaire.\n",
    "- `birthYear`: The birth year of the billionaire.\n",
    "- `birthMonth`: The birth month of the billionaire.\n",
    "- `birthDay`: The birth day of the billionaire.\n",
    "- `cpi_country`: Consumer Price Index (CPI) for the billionaire's country.\n",
    "- `cpi_change_country`: CPI change for the billionaire's country.\n",
    "- `gdp_country`: Gross Domestic Product (GDP) for the billionaire's country.\n",
    "- `gross_tertiary_education_enrollment`: Enrollment in tertiary education in the billionaire's country.\n",
    "- `gross_primary_education_enrollment_country`: Enrollment in primary education in the billionaire's country.\n",
    "- `life_expectancy_country`: Life expectancy in the billionaire's country.\n",
    "- `tax_revenue_country_country`: Tax revenue in the billionaire's country.\n",
    "- `total_tax_rate_country`: Total tax rate in the billionaire's country.\n",
    "- `population_country`: Population of the billionaire's country.\n",
    "- `latitude_country`: Latitude coordinate of the billionaire's country.\n",
    "- `longitude_country`: Longitude coordinate of the billionaire's country."
   ]
  },
  {
   "cell_type": "markdown",
   "id": "a6573904-6136-4ecd-8426-1fbe0727cd6a",
   "metadata": {},
   "source": [
    "### What is the current data type of each column? Are there columns having inappropriate data types?"
   ]
  },
  {
   "cell_type": "code",
   "execution_count": 6,
   "id": "673c0e59-4eae-483f-99ce-ed3d3d0d616d",
   "metadata": {
    "metadata": {}
   },
   "outputs": [
    {
     "data": {
      "text/plain": [
       "rank                                            int64\n",
       "finalWorth                                      int64\n",
       "category                                       object\n",
       "personName                                     object\n",
       "age                                           float64\n",
       "country                                        object\n",
       "city                                           object\n",
       "source                                         object\n",
       "industries                                     object\n",
       "countryOfCitizenship                           object\n",
       "organization                                   object\n",
       "selfMade                                         bool\n",
       "status                                         object\n",
       "gender                                         object\n",
       "birthDate                                      object\n",
       "lastName                                       object\n",
       "firstName                                      object\n",
       "title                                          object\n",
       "date                                           object\n",
       "state                                          object\n",
       "residenceStateRegion                           object\n",
       "birthYear                                     float64\n",
       "birthMonth                                    float64\n",
       "birthDay                                      float64\n",
       "cpi_country                                   float64\n",
       "cpi_change_country                            float64\n",
       "gdp_country                                    object\n",
       "gross_tertiary_education_enrollment           float64\n",
       "gross_primary_education_enrollment_country    float64\n",
       "life_expectancy_country                       float64\n",
       "tax_revenue_country_country                   float64\n",
       "total_tax_rate_country                        float64\n",
       "population_country                            float64\n",
       "latitude_country                              float64\n",
       "longitude_country                             float64\n",
       "dtype: object"
      ]
     },
     "execution_count": 6,
     "metadata": {},
     "output_type": "execute_result"
    }
   ],
   "source": [
    "billion_df.dtypes"
   ]
  },
  {
   "cell_type": "markdown",
   "id": "bb9cd2d2-b038-4b02-9918-4e79479e6285",
   "metadata": {},
   "source": [
    "### Drop Rows that not essential for visualization"
   ]
  },
  {
   "cell_type": "code",
   "execution_count": 7,
   "id": "c70ec8a0-3d02-4ff4-a630-085e5c195ebf",
   "metadata": {
    "metadata": {}
   },
   "outputs": [],
   "source": [
    "columns_to_drop = ['date']\n",
    "billion_df.drop(columns=columns_to_drop,inplace=True)"
   ]
  },
  {
   "cell_type": "code",
   "execution_count": 8,
   "id": "43eaeb49-0f22-4e41-a87d-c5f01888b9e4",
   "metadata": {
    "metadata": {}
   },
   "outputs": [],
   "source": [
    "billion_df['gdp_country'] = billion_df['gdp_country'].astype(str).str.replace('[\\$,]', '', regex=True)\n",
    "billion_df['gdp_country'] = pd.to_numeric(billion_df['gdp_country'], errors='coerce')\n",
    "date_format = \"%m/%d/%Y %H:%M\"\n",
    "billion_df['birthDate'] = pd.to_datetime(billion_df['birthDate'], format=date_format)"
   ]
  },
  {
   "cell_type": "markdown",
   "id": "c4e7805d-7d77-42c9-bd77-4113a83fdb1a",
   "metadata": {},
   "source": [
    "### Convert type of columns"
   ]
  },
  {
   "cell_type": "code",
   "execution_count": 9,
   "id": "4f046626-9211-498e-8ba2-d963d2d0747c",
   "metadata": {
    "metadata": {}
   },
   "outputs": [
    {
     "data": {
      "text/plain": [
       "rank                                                   int64\n",
       "finalWorth                                             int64\n",
       "category                                              object\n",
       "personName                                            object\n",
       "age                                                  float64\n",
       "country                                               object\n",
       "city                                                  object\n",
       "source                                                object\n",
       "industries                                            object\n",
       "countryOfCitizenship                                  object\n",
       "organization                                          object\n",
       "selfMade                                                bool\n",
       "status                                                object\n",
       "gender                                                object\n",
       "birthDate                                     datetime64[ns]\n",
       "lastName                                              object\n",
       "firstName                                             object\n",
       "title                                                 object\n",
       "state                                                 object\n",
       "residenceStateRegion                                  object\n",
       "birthYear                                            float64\n",
       "birthMonth                                           float64\n",
       "birthDay                                             float64\n",
       "cpi_country                                          float64\n",
       "cpi_change_country                                   float64\n",
       "gdp_country                                          float64\n",
       "gross_tertiary_education_enrollment                  float64\n",
       "gross_primary_education_enrollment_country           float64\n",
       "life_expectancy_country                              float64\n",
       "tax_revenue_country_country                          float64\n",
       "total_tax_rate_country                               float64\n",
       "population_country                                   float64\n",
       "latitude_country                                     float64\n",
       "longitude_country                                    float64\n",
       "dtype: object"
      ]
     },
     "execution_count": 9,
     "metadata": {},
     "output_type": "execute_result"
    }
   ],
   "source": [
    "billion_df.dtypes"
   ]
  },
  {
   "cell_type": "markdown",
   "id": "d5ed6c8c-6c69-40d2-8cd8-ae99ad0f6705",
   "metadata": {},
   "source": [
    "### Handle missing values"
   ]
  },
  {
   "cell_type": "code",
   "execution_count": 10,
   "id": "3f9c414d-14b6-43b4-818c-8338daa30df2",
   "metadata": {
    "metadata": {}
   },
   "outputs": [
    {
     "data": {
      "text/plain": [
       "rank                                           0.00\n",
       "finalWorth                                     0.00\n",
       "category                                       0.00\n",
       "personName                                     0.00\n",
       "age                                            2.46\n",
       "country                                        1.44\n",
       "city                                           2.73\n",
       "source                                         0.00\n",
       "industries                                     0.00\n",
       "countryOfCitizenship                           0.00\n",
       "organization                                  87.69\n",
       "selfMade                                       0.00\n",
       "status                                         0.00\n",
       "gender                                         0.00\n",
       "birthDate                                      2.88\n",
       "lastName                                       0.00\n",
       "firstName                                      0.11\n",
       "title                                         87.16\n",
       "state                                         71.48\n",
       "residenceStateRegion                          71.70\n",
       "birthYear                                      2.88\n",
       "birthMonth                                     2.88\n",
       "birthDay                                       2.88\n",
       "cpi_country                                    6.97\n",
       "cpi_change_country                             6.97\n",
       "gdp_country                                    6.21\n",
       "gross_tertiary_education_enrollment            6.89\n",
       "gross_primary_education_enrollment_country     6.86\n",
       "life_expectancy_country                        6.89\n",
       "tax_revenue_country_country                    6.93\n",
       "total_tax_rate_country                         6.89\n",
       "population_country                             6.21\n",
       "latitude_country                               6.21\n",
       "longitude_country                              6.21\n",
       "dtype: float64"
      ]
     },
     "execution_count": 10,
     "metadata": {},
     "output_type": "execute_result"
    }
   ],
   "source": [
    "missing_ratio=(billion_df.isnull().sum()/len(billion_df)*100).round(2)\n",
    "missing_ratio"
   ]
  },
  {
   "cell_type": "markdown",
   "id": "45f1ea4e-84bf-419f-b98e-43c631f60567",
   "metadata": {},
   "source": [
    "Drop columns that has missing ratio > 70%"
   ]
  },
  {
   "cell_type": "code",
   "execution_count": 11,
   "id": "05cd2e48-5f41-4bfb-9265-46f35b07a54e",
   "metadata": {
    "metadata": {}
   },
   "outputs": [
    {
     "data": {
      "text/plain": [
       "rank                                                   int64\n",
       "finalWorth                                             int64\n",
       "category                                              object\n",
       "personName                                            object\n",
       "age                                                  float64\n",
       "country                                               object\n",
       "city                                                  object\n",
       "source                                                object\n",
       "industries                                            object\n",
       "countryOfCitizenship                                  object\n",
       "selfMade                                                bool\n",
       "status                                                object\n",
       "gender                                                object\n",
       "birthDate                                     datetime64[ns]\n",
       "lastName                                              object\n",
       "firstName                                             object\n",
       "birthYear                                            float64\n",
       "birthMonth                                           float64\n",
       "birthDay                                             float64\n",
       "cpi_country                                          float64\n",
       "cpi_change_country                                   float64\n",
       "gdp_country                                          float64\n",
       "gross_tertiary_education_enrollment                  float64\n",
       "gross_primary_education_enrollment_country           float64\n",
       "life_expectancy_country                              float64\n",
       "tax_revenue_country_country                          float64\n",
       "total_tax_rate_country                               float64\n",
       "population_country                                   float64\n",
       "latitude_country                                     float64\n",
       "longitude_country                                    float64\n",
       "dtype: object"
      ]
     },
     "execution_count": 11,
     "metadata": {},
     "output_type": "execute_result"
    }
   ],
   "source": [
    "columns_to_drop = missing_ratio[missing_ratio > 70.0].index\n",
    "billion_df.drop(columns=columns_to_drop, inplace=True)\n",
    "billion_df.dtypes"
   ]
  },
  {
   "cell_type": "markdown",
   "id": "06703894-fc85-4a4d-bcf0-1f600b76d2cb",
   "metadata": {},
   "source": [
    "### Handle missing value"
   ]
  },
  {
   "cell_type": "markdown",
   "id": "7635f2ca-64a4-4cee-8acd-e61cff89cd21",
   "metadata": {},
   "source": [
    "#### Inspecting the reamining columns to look for wrong data"
   ]
  },
  {
   "cell_type": "code",
   "execution_count": 12,
   "id": "a8550082-10c1-4934-847d-b51036e7cb8a",
   "metadata": {
    "metadata": {}
   },
   "outputs": [
    {
     "name": "stdout",
     "output_type": "stream",
     "text": [
      "Values presented in the status column are:\n",
      "\n",
      "status\n",
      "D                       1223\n",
      "U                        855\n",
      "E                        268\n",
      "N                        150\n",
      "Split Family Fortune      79\n",
      "R                         65\n",
      "Name: count, dtype: int64\n",
      "\n",
      "Values presented in the selfMade column are:\n",
      "\n",
      "selfMade\n",
      "True     1812\n",
      "False     828\n",
      "Name: count, dtype: int64\n"
     ]
    }
   ],
   "source": [
    "# Looking at the amount of different values to assess data quality in 'status' and 'selfMade' columns\n",
    "\n",
    "print(f'Values presented in the status column are:\\n\\n{billion_df[\"status\"].value_counts()}')\n",
    "print(f'\\nValues presented in the selfMade column are:\\n\\n{billion_df[\"selfMade\"].value_counts()}')"
   ]
  },
  {
   "cell_type": "markdown",
   "id": "5eec408d-16fb-4b1f-9673-b421633cb5aa",
   "metadata": {},
   "source": [
    "Column status tells us whether the billionaire is self-made (D) or their fortune have any other origin (U). The self-made column indicates whether the billionaire is self-made with True/False.\n",
    "\n",
    "In theory, the number of values in the status column that indicates a self-made fortune (D) should be equal to the number of True values in the selfMade column"
   ]
  },
  {
   "cell_type": "code",
   "execution_count": 13,
   "id": "2b7e0187-fea4-45c0-8ab4-29dfa1e0972f",
   "metadata": {
    "metadata": {}
   },
   "outputs": [
    {
     "name": "stdout",
     "output_type": "stream",
     "text": [
      "Different values in the industry column are:\n",
      "\n",
      "['Fashion & Retail' 'Automotive' 'Technology' 'Finance & Investments'\n",
      " 'Media & Entertainment' 'Telecom' 'Diversified' 'Food & Beverage'\n",
      " 'Logistics' 'Gambling & Casinos' 'Manufacturing' 'Real Estate'\n",
      " 'Metals & Mining' 'Energy' 'Healthcare' 'Service'\n",
      " 'Construction & Engineering' 'Sports']\n",
      "\n",
      "Different values in the country column are:\n",
      "\n",
      "['France' 'United States' 'Mexico' 'India' 'Spain' 'China' 'Canada'\n",
      " 'Germany' 'Switzerland' 'Belgium' 'Hong Kong' 'Austria' 'Japan'\n",
      " 'United Kingdom' 'Australia' 'Indonesia' 'United Arab Emirates' 'Russia'\n",
      " 'Chile' 'Monaco' 'Czech Republic' 'Sweden' nan 'Thailand' 'Uzbekistan'\n",
      " 'Singapore' 'Nigeria' 'Israel' 'Italy' 'South Africa' 'Brazil' 'Malaysia'\n",
      " 'South Korea' 'New Zealand' 'Philippines' 'Taiwan' 'Norway' 'Egypt'\n",
      " 'Denmark' 'Eswatini (Swaziland)' 'Colombia' 'Netherlands' 'Poland'\n",
      " 'Bahamas' 'Ukraine' 'Cayman Islands' 'Greece' 'Turkey' 'Argentina'\n",
      " 'Georgia' 'Portugal' 'Kazakhstan' 'Algeria' 'Vietnam' 'Latvia' 'Finland'\n",
      " 'Bermuda' 'Luxembourg' 'British Virgin Islands' 'Cambodia' 'Lebanon'\n",
      " 'Oman' 'Ireland' 'Cyprus' 'Guernsey' 'Liechtenstein'\n",
      " 'Turks and Caicos Islands' 'Romania' 'Qatar' 'Uruguay' 'Nepal' 'Slovakia'\n",
      " 'Morocco' 'Hungary' 'Tanzania' 'Bahrain' 'Peru' 'Andorra' 'Armenia']\n",
      "\n",
      "Different values in the countryOfCitizenship column are:\n",
      "\n",
      "['France' 'United States' 'Mexico' 'India' 'Spain' 'China' 'Canada'\n",
      " 'Germany' 'Italy' 'Hong Kong' 'Austria' 'Japan' 'Switzerland' 'Australia'\n",
      " 'Indonesia' 'Russia' 'Chile' 'United Kingdom' 'Israel' 'Brazil'\n",
      " 'Czech Republic' 'Singapore' 'Sweden' 'Thailand' 'Netherlands' 'Nigeria'\n",
      " 'Cyprus' 'Malaysia' 'United Arab Emirates' 'South Africa' 'New Zealand'\n",
      " 'Philippines' 'Monaco' 'Belgium' 'South Korea' 'Taiwan' 'Norway' 'Egypt'\n",
      " 'Denmark' 'Ireland' 'Eswatini (Swaziland)' 'Colombia' 'Poland' 'Ukraine'\n",
      " 'Greece' 'Turkey' 'Argentina' 'Georgia' 'Portugal' 'Kazakhstan' 'Algeria'\n",
      " 'Venezuela' 'Vietnam' 'Finland' 'Belize' 'Lebanon' 'Oman' 'Iceland'\n",
      " 'Guernsey' 'Liechtenstein' 'Bulgaria' 'Romania' 'Zimbabwe' 'Qatar'\n",
      " 'Nepal' 'Slovakia' 'Morocco' 'Hungary' 'Tanzania' 'Peru' 'Barbados'\n",
      " 'Macau' 'Estonia' 'St. Kitts and Nevis' 'Armenia' 'Bangladesh' 'Panama']\n",
      "\n",
      "Different values in the gender column are:\n",
      "\n",
      "['M' 'F']\n"
     ]
    }
   ],
   "source": [
    "# Displaying unique values in selecting columns in search of wrong data\n",
    "\n",
    "print(f'Different values in the industry column are:\\n\\n{billion_df[\"industries\"].unique()}')\n",
    "print(f'\\nDifferent values in the country column are:\\n\\n{billion_df[\"country\"].unique()}')\n",
    "print(f'\\nDifferent values in the countryOfCitizenship column are:\\n\\n{billion_df[\"countryOfCitizenship\"].unique()}')\n",
    "print(f'\\nDifferent values in the gender column are:\\n\\n{billion_df[\"gender\"].unique()}')"
   ]
  },
  {
   "cell_type": "markdown",
   "id": "7b148e5b-0c4d-499c-9801-a71a32fd50bd",
   "metadata": {},
   "source": [
    "After looking at the different values in key string columns that are going to be used to perform analysis, the conclusion is that data is correct and don't contain wrong entries"
   ]
  },
  {
   "cell_type": "code",
   "execution_count": 14,
   "id": "4bd9d119-8cd0-4334-9361-e426e599ea2e",
   "metadata": {
    "metadata": {}
   },
   "outputs": [
    {
     "name": "stdout",
     "output_type": "stream",
     "text": [
      "Values presented in the birthYear column are:\n",
      "\n",
      "[1949. 1971. 1964. 1944. 1930. 1955. 1942. 1940. 1957. 1956. 1953. 1973.\n",
      " 1936. 1954. 1984. 1935. 1962. 1948. 1965. 1938. 1939. 1937. 1928. 1945.\n",
      " 1968. 1992. 1969. 1951. 1980. 1958. 1947. 1972. 1966. 1970. 1941. 1961.\n",
      " 1943. 1986. 1963. 1933. 1950. 1952. 1932. 1931. 1967.   nan 1946. 1978.\n",
      " 1927. 1929. 1976. 1959. 1923. 1960. 1934. 1977. 1979. 1982. 1981. 1975.\n",
      " 1974. 1983. 1985. 1926. 1990. 1988. 1989. 1987. 2004. 1995. 2001. 1993.\n",
      " 1924. 2002. 1996. 1925. 1921. 1994.]\n",
      "\n",
      "Values presented in the birthMonth column are:\n",
      "\n",
      "[ 3.  6.  1.  8. 10.  2.  4.  7. 12.  5. 11.  9. nan]\n",
      "\n",
      "Values presented in the birthDay column are:\n",
      "\n",
      "[ 5. 28. 12. 17. 30. 14. 19. 24. 10. 26. 21.  1.  7. 27. 23.  2. 15. 13.\n",
      " 29.  9. 20. 25. 18.  8.  3. 11. 16. 22.  4. nan  6. 31.]\n"
     ]
    }
   ],
   "source": [
    "# Displaying unique values in selecting columns in search of wrong data\n",
    "\n",
    "print(f'Values presented in the birthYear column are:\\n\\n{billion_df[\"birthYear\"].unique()}')\n",
    "print(f'\\nValues presented in the birthMonth column are:\\n\\n{billion_df[\"birthMonth\"].unique()}')\n",
    "print(f'\\nValues presented in the birthDay column are:\\n\\n{billion_df[\"birthDay\"].unique()}')"
   ]
  },
  {
   "cell_type": "markdown",
   "id": "e05d4682-25fc-47c5-9a5b-bb3d84e8c666",
   "metadata": {},
   "source": [
    "#### Fill missing value"
   ]
  },
  {
   "cell_type": "code",
   "execution_count": 15,
   "id": "fc215bc2",
   "metadata": {
    "metadata": {}
   },
   "outputs": [],
   "source": [
    "#Fill missing country values with data scaper from wikipedia (searching for the country of citizenship of the person based on the name)\n",
    "from bs4 import BeautifulSoup\n",
    "import requests\n",
    "\n",
    "def getCountryAndAge(name):\n",
    "    # Replace spaces with underscores\n",
    "    name = name.replace(' ', '-').lower()\n",
    "    url = f'https://www.forbes.com/profile/{name}'\n",
    "    response = requests.get(url)\n",
    "    soup = BeautifulSoup(response.text, 'html.parser')\n",
    "    country = None\n",
    "    age = None\n",
    "    citizenship_dt = soup.find('dt', text='Citizenship')\n",
    "    if citizenship_dt:\n",
    "        citizenship_dd = citizenship_dt.find_next_sibling('dd')\n",
    "        if citizenship_dd:\n",
    "            country = citizenship_dd.text.strip()\n",
    "    age_dt = soup.find('dt', text='Age')\n",
    "    if age_dt:\n",
    "        age_dd = age_dt.find_next_sibling('dd')\n",
    "        if age_dd:\n",
    "            age = age_dd.text.strip()\n",
    "            #print(f'{name} is {age} years old and comes from {citizenship}')\n",
    "    return pd.Series([country, age])\n",
    "\n",
    "# Get the names of the people with missing country values\n",
    "missing_country = billion_df.query('country.isnull() or age.isnull()')['personName']\n",
    "# Get the country and age of the missing people\n",
    "country_and_age = missing_country.apply(getCountryAndAge).dropna()\n",
    "# rename the columns\n",
    "country_and_age.columns = ['country', 'age']\n",
    "# Assign the country and age to the missing people\n",
    "billion_df.loc[country_and_age.index, ['country','age']] = country_and_age"
   ]
  },
  {
   "cell_type": "code",
   "execution_count": 16,
   "id": "c77359c0",
   "metadata": {
    "metadata": {}
   },
   "outputs": [
    {
     "name": "stdout",
     "output_type": "stream",
     "text": [
      "After crawling the missing values in the country column, the missing values ratio is:\n",
      "rank                                          0.00\n",
      "finalWorth                                    0.00\n",
      "category                                      0.00\n",
      "personName                                    0.00\n",
      "age                                           1.86\n",
      "country                                       0.49\n",
      "city                                          2.73\n",
      "source                                        0.00\n",
      "industries                                    0.00\n",
      "countryOfCitizenship                          0.00\n",
      "selfMade                                      0.00\n",
      "status                                        0.00\n",
      "gender                                        0.00\n",
      "birthDate                                     2.88\n",
      "lastName                                      0.00\n",
      "firstName                                     0.11\n",
      "birthYear                                     2.88\n",
      "birthMonth                                    2.88\n",
      "birthDay                                      2.88\n",
      "cpi_country                                   6.97\n",
      "cpi_change_country                            6.97\n",
      "gdp_country                                   6.21\n",
      "gross_tertiary_education_enrollment           6.89\n",
      "gross_primary_education_enrollment_country    6.86\n",
      "life_expectancy_country                       6.89\n",
      "tax_revenue_country_country                   6.93\n",
      "total_tax_rate_country                        6.89\n",
      "population_country                            6.21\n",
      "latitude_country                              6.21\n",
      "longitude_country                             6.21\n",
      "dtype: float64\n",
      "After crawling the missing values in the age column, the missing values ratio is:\n",
      "rank                                          0.00\n",
      "finalWorth                                    0.00\n",
      "category                                      0.00\n",
      "personName                                    0.00\n",
      "age                                           1.86\n",
      "country                                       0.49\n",
      "city                                          2.73\n",
      "source                                        0.00\n",
      "industries                                    0.00\n",
      "countryOfCitizenship                          0.00\n",
      "selfMade                                      0.00\n",
      "status                                        0.00\n",
      "gender                                        0.00\n",
      "birthDate                                     2.88\n",
      "lastName                                      0.00\n",
      "firstName                                     0.11\n",
      "birthYear                                     2.88\n",
      "birthMonth                                    2.88\n",
      "birthDay                                      2.88\n",
      "cpi_country                                   6.97\n",
      "cpi_change_country                            6.97\n",
      "gdp_country                                   6.21\n",
      "gross_tertiary_education_enrollment           6.89\n",
      "gross_primary_education_enrollment_country    6.86\n",
      "life_expectancy_country                       6.89\n",
      "tax_revenue_country_country                   6.93\n",
      "total_tax_rate_country                        6.89\n",
      "population_country                            6.21\n",
      "latitude_country                              6.21\n",
      "longitude_country                             6.21\n",
      "dtype: float64\n"
     ]
    }
   ],
   "source": [
    "# print the missing values ratio after filling the missing values\n",
    "print(\"After crawling the missing values in the country column, the missing values ratio is:\")\n",
    "print((billion_df.isnull().sum()/len(billion_df)*100).round(2))\n",
    "print(\"After crawling the missing values in the age column, the missing values ratio is:\")\n",
    "print((billion_df.isnull().sum()/len(billion_df)*100).round(2))"
   ]
  },
  {
   "cell_type": "code",
   "execution_count": 17,
   "id": "1a1da1a5-3ff7-45a5-9482-134495b96921",
   "metadata": {
    "metadata": {}
   },
   "outputs": [
    {
     "name": "stdout",
     "output_type": "stream",
     "text": [
      "After assigning \"Unknown\" to null and missing values in the country column, its amount of nulls is: 0\n",
      "After assigning \"Unknown\" to null and missing values in the city column, its amount of nulls is: 0\n"
     ]
    }
   ],
   "source": [
    "billion_df['country'] = billion_df['country'].fillna('Unknown')\n",
    "billion_df['city'] = billion_df['city'].fillna('Unknown')\n",
    "\n",
    "print(f'After assigning \"Unknown\" to null and missing values in the country column, its amount of nulls is: {billion_df[\"country\"].isna().sum()}')\n",
    "print(f'After assigning \"Unknown\" to null and missing values in the city column, its amount of nulls is: {billion_df[\"city\"].isna().sum()}')"
   ]
  },
  {
   "cell_type": "code",
   "execution_count": 18,
   "id": "a07390d1-a05b-45d0-934a-087aa9695045",
   "metadata": {
    "metadata": {}
   },
   "outputs": [
    {
     "name": "stdout",
     "output_type": "stream",
     "text": [
      "                     country  no life expectancy\n",
      "10                 Hong Kong                  68\n",
      "18                    Taiwan                  46\n",
      "15                    Monaco                  17\n",
      "21                   Unknown                  13\n",
      "8                    Germany                   8\n",
      "12                   Ireland                   4\n",
      "17               South Korea                   3\n",
      "11                     India                   3\n",
      "4             Cayman Islands                   3\n",
      "1                    Bahamas                   2\n",
      "5             Czech Republic                   2\n",
      "2                    Bermuda                   2\n",
      "20            United Kingdom                   2\n",
      "7                     France                   1\n",
      "9                   Guernsey                   1\n",
      "6       Eswatini (Swaziland)                   1\n",
      "13                     Italy                   1\n",
      "14                     Japan                   1\n",
      "16                    Panama                   1\n",
      "3     British Virgin Islands                   1\n",
      "19  Turks and Caicos Islands                   1\n",
      "0                    Andorra                   1\n"
     ]
    }
   ],
   "source": [
    "print(billion_df[billion_df['life_expectancy_country'].isnull()].groupby('country').size().reset_index(name='no life expectancy').sort_values(by='no life expectancy', ascending=False))"
   ]
  },
  {
   "cell_type": "code",
   "execution_count": 19,
   "id": "b39c9b46-c4a5-41fb-8fc4-dba83e2933c8",
   "metadata": {
    "metadata": {}
   },
   "outputs": [
    {
     "name": "stdout",
     "output_type": "stream",
     "text": [
      "          country  no life expectancy\n",
      "9         Unknown                  13\n",
      "2         Germany                   8\n",
      "3           India                   3\n",
      "7     South Korea                   3\n",
      "0  Czech Republic                   2\n",
      "8  United Kingdom                   2\n",
      "1          France                   1\n",
      "4           Italy                   1\n",
      "5           Japan                   1\n",
      "6          Panama                   1\n"
     ]
    }
   ],
   "source": [
    "# Creating a dictionary to fill null values for the column\n",
    "\n",
    "life_exp_dict = {\n",
    "    'Hong Kong': 85.5,\n",
    "    'Taiwan': 80.7,\n",
    "    'Monaco': 85.9,\n",
    "    'Ireland': 82.1,\n",
    "    'Cayman Islands': 82.1,\n",
    "    'Bahamas': 71.6,\n",
    "    'Bermuda': 79.3,\n",
    "    'Andorra': 83.3,\n",
    "    'British Virgin Islands': 74.5,\n",
    "    'Eswatini (Swaziland)': 57.1,\n",
    "    'Guernsey': 81.3,\n",
    "    'Turks and Caicos Islands': 74.6\n",
    "}\n",
    "\n",
    "# Fill null values in 'life_expectancy' column using the dictionary\n",
    "\n",
    "billion_df['life_expectancy_country'].fillna(billion_df['country'].map(life_exp_dict), inplace=True)\n",
    "\n",
    "# Printing the sum of null values verify it doesn't have nulls\n",
    "\n",
    "print(billion_df[billion_df['life_expectancy_country'].isnull()].groupby('country').size().reset_index(name='no life expectancy').sort_values(by='no life expectancy', ascending=False))"
   ]
  },
  {
   "cell_type": "code",
   "execution_count": 20,
   "id": "473b319b-d360-4a6e-83e7-cc46d360b385",
   "metadata": {
    "metadata": {}
   },
   "outputs": [
    {
     "name": "stdout",
     "output_type": "stream",
     "text": [
      "          country  no gdp figures\n",
      "9         Unknown              13\n",
      "2         Germany               8\n",
      "3           India               3\n",
      "7     South Korea               3\n",
      "0  Czech Republic               2\n",
      "8  United Kingdom               2\n",
      "1          France               1\n",
      "4           Italy               1\n",
      "5           Japan               1\n",
      "6          Panama               1\n"
     ]
    }
   ],
   "source": [
    "# Creating a dictionary to fill null values for the column\n",
    "\n",
    "gdp_dict = {\n",
    "    'Hong Kong': 368911387845,\n",
    "    'Taiwan': 774700000000,\n",
    "    'Ireland': 513391778882,\n",
    "    'Cayman Islands': 6028373513,\n",
    "    'Bahamas': 11527600000,\n",
    "    'Bermuda': 7127200000,\n",
    "    'British Virgin Islands': 1120000000,\n",
    "    'Eswatini (Swaziland)': 4850842572,\n",
    "    'Guernsey': 4143608400,\n",
    "    'Turks and Caicos Islands': 1044778790\n",
    "}\n",
    "\n",
    "# Fill null values in 'gdp_country' column using the dictionary\n",
    "\n",
    "billion_df['gdp_country'].fillna(billion_df['country'].map(gdp_dict), inplace=True)\n",
    "\n",
    "# Printing the sum of null values verify it doesn't have nulls\n",
    "\n",
    "print(billion_df[billion_df['gdp_country'].isnull()].groupby('country').size().reset_index(name='no gdp figures').sort_values(by='no gdp figures', ascending=False))"
   ]
  },
  {
   "cell_type": "code",
   "execution_count": 21,
   "id": "28510506-38b3-4516-bc4a-3ac518e9545b",
   "metadata": {
    "metadata": {}
   },
   "outputs": [
    {
     "name": "stdout",
     "output_type": "stream",
     "text": [
      "          country  no population figures\n",
      "9         Unknown                     13\n",
      "2         Germany                      8\n",
      "3           India                      3\n",
      "7     South Korea                      3\n",
      "0  Czech Republic                      2\n",
      "8  United Kingdom                      2\n",
      "1          France                      1\n",
      "4           Italy                      1\n",
      "5           Japan                      1\n",
      "6          Panama                      1\n"
     ]
    }
   ],
   "source": [
    "# Creating a dictionary to fill null values for the column\n",
    "\n",
    "pop_dict = {\n",
    "    'Hong Kong': 7413100,\n",
    "    'Taiwan': 24859912,\n",
    "    'Ireland': 5033164,\n",
    "    'Cayman Islands': 68136,\n",
    "    'Bahamas': 407906,\n",
    "    'Bermuda': 63764,\n",
    "    'British Virgin Islands': 31122,\n",
    "    'Eswatini (Swaziland)': 1192271,\n",
    "    'Guernsey': 63463,\n",
    "    'Turks and Caicos Islands': 45114\n",
    "}\n",
    "\n",
    "# Fill null values in 'gdp_country' column using the dictionary\n",
    "\n",
    "billion_df['population_country'].fillna(billion_df['country'].map(pop_dict), inplace=True)\n",
    "\n",
    "# Printing the sum of null values verify it doesn't have nulls\n",
    "\n",
    "print(billion_df[billion_df['population_country'].isnull()].groupby('country').size().reset_index(name='no population figures').sort_values(by='no population figures', ascending=False))"
   ]
  },
  {
   "cell_type": "code",
   "execution_count": 22,
   "id": "8d311ca2-9a16-4862-9c9f-edf9061fa00d",
   "metadata": {
    "metadata": {},
    "scrolled": true
   },
   "outputs": [
    {
     "data": {
      "text/html": [
       "<div>\n",
       "<style scoped>\n",
       "    .dataframe tbody tr th:only-of-type {\n",
       "        vertical-align: middle;\n",
       "    }\n",
       "\n",
       "    .dataframe tbody tr th {\n",
       "        vertical-align: top;\n",
       "    }\n",
       "\n",
       "    .dataframe thead th {\n",
       "        text-align: right;\n",
       "    }\n",
       "</style>\n",
       "<table border=\"1\" class=\"dataframe\">\n",
       "  <thead>\n",
       "    <tr style=\"text-align: right;\">\n",
       "      <th></th>\n",
       "      <th>country</th>\n",
       "      <th>no latitude figures</th>\n",
       "    </tr>\n",
       "  </thead>\n",
       "  <tbody>\n",
       "    <tr>\n",
       "      <th>9</th>\n",
       "      <td>Unknown</td>\n",
       "      <td>13</td>\n",
       "    </tr>\n",
       "    <tr>\n",
       "      <th>2</th>\n",
       "      <td>Germany</td>\n",
       "      <td>8</td>\n",
       "    </tr>\n",
       "    <tr>\n",
       "      <th>3</th>\n",
       "      <td>India</td>\n",
       "      <td>3</td>\n",
       "    </tr>\n",
       "    <tr>\n",
       "      <th>7</th>\n",
       "      <td>South Korea</td>\n",
       "      <td>3</td>\n",
       "    </tr>\n",
       "    <tr>\n",
       "      <th>0</th>\n",
       "      <td>Czech Republic</td>\n",
       "      <td>2</td>\n",
       "    </tr>\n",
       "    <tr>\n",
       "      <th>8</th>\n",
       "      <td>United Kingdom</td>\n",
       "      <td>2</td>\n",
       "    </tr>\n",
       "    <tr>\n",
       "      <th>1</th>\n",
       "      <td>France</td>\n",
       "      <td>1</td>\n",
       "    </tr>\n",
       "    <tr>\n",
       "      <th>4</th>\n",
       "      <td>Italy</td>\n",
       "      <td>1</td>\n",
       "    </tr>\n",
       "    <tr>\n",
       "      <th>5</th>\n",
       "      <td>Japan</td>\n",
       "      <td>1</td>\n",
       "    </tr>\n",
       "    <tr>\n",
       "      <th>6</th>\n",
       "      <td>Panama</td>\n",
       "      <td>1</td>\n",
       "    </tr>\n",
       "  </tbody>\n",
       "</table>\n",
       "</div>"
      ],
      "text/plain": [
       "          country  no latitude figures\n",
       "9         Unknown                   13\n",
       "2         Germany                    8\n",
       "3           India                    3\n",
       "7     South Korea                    3\n",
       "0  Czech Republic                    2\n",
       "8  United Kingdom                    2\n",
       "1          France                    1\n",
       "4           Italy                    1\n",
       "5           Japan                    1\n",
       "6          Panama                    1"
      ]
     },
     "metadata": {},
     "output_type": "display_data"
    },
    {
     "data": {
      "text/html": [
       "<div>\n",
       "<style scoped>\n",
       "    .dataframe tbody tr th:only-of-type {\n",
       "        vertical-align: middle;\n",
       "    }\n",
       "\n",
       "    .dataframe tbody tr th {\n",
       "        vertical-align: top;\n",
       "    }\n",
       "\n",
       "    .dataframe thead th {\n",
       "        text-align: right;\n",
       "    }\n",
       "</style>\n",
       "<table border=\"1\" class=\"dataframe\">\n",
       "  <thead>\n",
       "    <tr style=\"text-align: right;\">\n",
       "      <th></th>\n",
       "      <th>country</th>\n",
       "      <th>no longitude figures</th>\n",
       "    </tr>\n",
       "  </thead>\n",
       "  <tbody>\n",
       "    <tr>\n",
       "      <th>9</th>\n",
       "      <td>Unknown</td>\n",
       "      <td>13</td>\n",
       "    </tr>\n",
       "    <tr>\n",
       "      <th>2</th>\n",
       "      <td>Germany</td>\n",
       "      <td>8</td>\n",
       "    </tr>\n",
       "    <tr>\n",
       "      <th>3</th>\n",
       "      <td>India</td>\n",
       "      <td>3</td>\n",
       "    </tr>\n",
       "    <tr>\n",
       "      <th>7</th>\n",
       "      <td>South Korea</td>\n",
       "      <td>3</td>\n",
       "    </tr>\n",
       "    <tr>\n",
       "      <th>0</th>\n",
       "      <td>Czech Republic</td>\n",
       "      <td>2</td>\n",
       "    </tr>\n",
       "    <tr>\n",
       "      <th>8</th>\n",
       "      <td>United Kingdom</td>\n",
       "      <td>2</td>\n",
       "    </tr>\n",
       "    <tr>\n",
       "      <th>1</th>\n",
       "      <td>France</td>\n",
       "      <td>1</td>\n",
       "    </tr>\n",
       "    <tr>\n",
       "      <th>4</th>\n",
       "      <td>Italy</td>\n",
       "      <td>1</td>\n",
       "    </tr>\n",
       "    <tr>\n",
       "      <th>5</th>\n",
       "      <td>Japan</td>\n",
       "      <td>1</td>\n",
       "    </tr>\n",
       "    <tr>\n",
       "      <th>6</th>\n",
       "      <td>Panama</td>\n",
       "      <td>1</td>\n",
       "    </tr>\n",
       "  </tbody>\n",
       "</table>\n",
       "</div>"
      ],
      "text/plain": [
       "          country  no longitude figures\n",
       "9         Unknown                    13\n",
       "2         Germany                     8\n",
       "3           India                     3\n",
       "7     South Korea                     3\n",
       "0  Czech Republic                     2\n",
       "8  United Kingdom                     2\n",
       "1          France                     1\n",
       "4           Italy                     1\n",
       "5           Japan                     1\n",
       "6          Panama                     1"
      ]
     },
     "metadata": {},
     "output_type": "display_data"
    }
   ],
   "source": [
    "# Creating two dictionaries to fill null values for the columns\n",
    "\n",
    "lat_dict = {\n",
    "    'Hong Kong': 22.396428,\n",
    "    'Taiwan': 23.697810,\n",
    "    'Ireland': 53.412910,\n",
    "    'Cayman Islands': 19.513469,\n",
    "    'Bahamas': 25.034280,\n",
    "    'Bermuda': 32.321384,\n",
    "    'British Virgin Islands': 18.420695,\n",
    "    'Eswatini (Swaziland)': -26.522503,\n",
    "    'Guernsey': 49.465691,\n",
    "    'Turks and Caicos Islands': 21.694025\n",
    "}\n",
    "\n",
    "long_dict = {\n",
    "    'Hong Kong': 114.109497,\n",
    "    'Taiwan': 120.960515,\n",
    "    'Ireland': -8.243890,\n",
    "    'Cayman Islands': -80.566956,\n",
    "    'Bahamas': -77.396280,\n",
    "    'Bermuda': -64.757370,\n",
    "    'British Virgin Islands': -64.639968,\n",
    "    'Eswatini (Swaziland)': 31.465866,\n",
    "    'Guernsey': -2.585278,\n",
    "    'Turks and Caicos Islands': -71.797928\n",
    "}\n",
    "\n",
    "# Fill null values in 'latitude_country' and 'longitude_country' columns using the dictionaries\n",
    "\n",
    "billion_df['latitude_country'].fillna(billion_df['country'].map(lat_dict), inplace=True)\n",
    "billion_df['longitude_country'].fillna(billion_df['country'].map(long_dict), inplace=True)\n",
    "\n",
    "# Printing the sum of null values to verify it doesn't have nulls\n",
    "\n",
    "display(billion_df[billion_df['latitude_country'].isnull()].groupby('country').size().reset_index(name='no latitude figures').sort_values(by='no latitude figures', ascending=False))\n",
    "\n",
    "display(billion_df[billion_df['longitude_country'].isnull()].groupby('country').size().reset_index(name='no longitude figures').sort_values(by='no longitude figures', ascending=False))"
   ]
  },
  {
   "cell_type": "code",
   "execution_count": 23,
   "id": "73d11ee0-c154-42cf-bda6-b1153b850a0a",
   "metadata": {
    "metadata": {}
   },
   "outputs": [],
   "source": [
    "# set age column to integer\n",
    "billion_df['age'] = billion_df['age'].astype('float')\n",
    "# if birthYear is null and age is not null, calculate birthYear from age, assign birthDay and birthMonth to the most common values\n",
    "billion_df['birthYear'] = np.where(billion_df['birthYear'].isnull(), datetime.now().year - billion_df['age'], billion_df['birthYear'])\n",
    "\n",
    "billion_df['age'].fillna(billion_df['age'].median(), inplace=True)\n",
    "billion_df['birthDate'].fillna(billion_df['birthDate'].value_counts().idxmax(), inplace=True)\n",
    "name_mapping = {\n",
    "    'Tahir': 'Muhammad',\n",
    "    'Jay-Z': 'Shawn',\n",
    "    'Rihanna': 'Robyn'\n",
    "}\n",
    "for last_name, first_name in name_mapping.items():\n",
    "    billion_df.loc[billion_df['lastName'] == last_name, 'firstName'] = first_name\n",
    "\n",
    "billion_df['birthYear'].fillna(billion_df['birthYear'].mean(), inplace=True)\n",
    "billion_df['birthMonth'].fillna(billion_df['birthMonth'].mode().iloc[0], inplace=True)\n",
    "billion_df['birthDay'].fillna(billion_df['birthDay'].mode().iloc[0], inplace=True)\n",
    "billion_df['cpi_country'].fillna(billion_df['cpi_country'].mean(), inplace=True)\n",
    "mean_gdp_country=billion_df.groupby('country')['gdp_country'].mean().mean()\n",
    "billion_df['gdp_country'].fillna(mean_gdp_country, inplace=True)\n",
    "billion_df['cpi_change_country'].fillna(billion_df['cpi_change_country'].mean(), inplace=True)\n",
    "billion_df['gross_tertiary_education_enrollment'].fillna(billion_df['gross_tertiary_education_enrollment'].mean(), inplace=True)\n",
    "billion_df['gross_primary_education_enrollment_country'].fillna(billion_df['gross_primary_education_enrollment_country'].mean(), inplace=True)\n",
    "billion_df['life_expectancy_country'].fillna(billion_df['life_expectancy_country'].mean(), inplace=True)\n",
    "billion_df['tax_revenue_country_country'].fillna(billion_df['tax_revenue_country_country'].mean(), inplace=True)\n",
    "billion_df['total_tax_rate_country'].fillna(billion_df['total_tax_rate_country'].mean(), inplace=True)\n",
    "billion_df['population_country'].fillna(billion_df['population_country'].median(), inplace=True)\n",
    "billion_df['latitude_country'].fillna(billion_df['latitude_country'].median(), inplace=True)\n",
    "billion_df['longitude_country'].fillna(billion_df['longitude_country'].median(), inplace=True)"
   ]
  },
  {
   "cell_type": "code",
   "execution_count": 24,
   "id": "a5897a1a-a7f4-490a-ae7b-f4a242f5bafc",
   "metadata": {
    "metadata": {}
   },
   "outputs": [
    {
     "data": {
      "text/plain": [
       "rank                                          0.0\n",
       "finalWorth                                    0.0\n",
       "category                                      0.0\n",
       "personName                                    0.0\n",
       "age                                           0.0\n",
       "country                                       0.0\n",
       "city                                          0.0\n",
       "source                                        0.0\n",
       "industries                                    0.0\n",
       "countryOfCitizenship                          0.0\n",
       "selfMade                                      0.0\n",
       "status                                        0.0\n",
       "gender                                        0.0\n",
       "birthDate                                     0.0\n",
       "lastName                                      0.0\n",
       "firstName                                     0.0\n",
       "birthYear                                     0.0\n",
       "birthMonth                                    0.0\n",
       "birthDay                                      0.0\n",
       "cpi_country                                   0.0\n",
       "cpi_change_country                            0.0\n",
       "gdp_country                                   0.0\n",
       "gross_tertiary_education_enrollment           0.0\n",
       "gross_primary_education_enrollment_country    0.0\n",
       "life_expectancy_country                       0.0\n",
       "tax_revenue_country_country                   0.0\n",
       "total_tax_rate_country                        0.0\n",
       "population_country                            0.0\n",
       "latitude_country                              0.0\n",
       "longitude_country                             0.0\n",
       "dtype: float64"
      ]
     },
     "execution_count": 24,
     "metadata": {},
     "output_type": "execute_result"
    }
   ],
   "source": [
    "missing_ratio=(billion_df.isnull().sum()/len(billion_df)*100).round(2)\n",
    "missing_ratio"
   ]
  },
  {
   "cell_type": "markdown",
   "id": "728587c2-ccf1-4dcf-9b34-ed00379b95ce",
   "metadata": {},
   "source": [
    "### Save cleaned data to CSV file"
   ]
  },
  {
   "cell_type": "code",
   "execution_count": 25,
   "id": "3a4a0f29-5501-412b-bfd1-8f62c599961d",
   "metadata": {
    "metadata": {}
   },
   "outputs": [],
   "source": [
    "billion_df.to_csv(\"./Data/data_processed.csv\", index=False)"
   ]
  }
 ],
 "metadata": {
  "kernelspec": {
   "display_name": "Python 3 (ipykernel)",
   "language": "python",
   "name": "python3"
  },
  "language_info": {
   "codemirror_mode": {
    "name": "ipython",
    "version": 3
   },
   "file_extension": ".py",
   "mimetype": "text/x-python",
   "name": "python",
   "nbconvert_exporter": "python",
   "pygments_lexer": "ipython3",
   "version": "3.10.8"
  }
 },
 "nbformat": 4,
 "nbformat_minor": 5
}
