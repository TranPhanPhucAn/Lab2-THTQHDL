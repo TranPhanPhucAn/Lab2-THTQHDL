{
 "cells": [
  {
   "cell_type": "markdown",
   "id": "565eca63-60ba-46b6-b009-6bc098b4c742",
   "metadata": {},
   "source": [
    "<div style=\"text-align: center; background-color: #0A6EBD; font-family: 'Trebuchet MS', Arial, sans-serif; color: white; padding: 20px; font-size: 40px; font-weight: bold; border-radius: 0 0 0 0; box-shadow: 0px 6px 8px rgba(0, 0, 0, 0.2);\">\n",
    " Lab 2 Data Visualization\n",
    "</div>"
   ]
  },
  {
   "cell_type": "markdown",
   "id": "bb339a7c-b77a-4a8a-9cfb-a65159b83d6f",
   "metadata": {},
   "source": [
    "<div style=\"text-align: center; background-color: #5A96E3; font-family: 'Trebuchet MS', Arial, sans-serif; color: white; padding: 20px; font-size: 40px; font-weight: bold; border-radius: 0 0 0 0; box-shadow: 0px 6px 8px rgba(0, 0, 0, 0.2);\">\n",
    "  Collecting Data</div>"
   ]
  },
  {
   "cell_type": "markdown",
   "id": "48b6d848-97b6-42f7-aac2-b5bcabec05ff",
   "metadata": {},
   "source": [
    "## Group 21: \n",
    "\n",
    "|MSSV     | Họ tên         |Email                         | \n",
    "|----------|----------------|------------------------------|\n",
    "| 21120407 | Trần Phan Phúc Ân  |21120407@student.hcmus.edu.vn | \n",
    "| 21120409 | Nguyễn Đức Duy Anh |21120409@student.hcmus.edu.vn |\n",
    "| 21120451 | Lê Bảo Hiếu  |21120451@student.hcmus.edu.vn |    |\n",
    "| 21120423 | Phạm Mạnh Cường  |21120423@student.hcmus.edu.vn |    |\n",
    "| 21120481 | Châu Hoàng Khoa |21120481@student.hcmus.edu.vn |    |"
   ]
  },
  {
   "cell_type": "markdown",
   "id": "403a16fc-d276-41a0-900a-746307222d85",
   "metadata": {},
   "source": [
    "Github Link: <a href='https://github.com/TranPhanPhucAn/Lab2-THTQHDL'>Group21-Lab2</a>"
   ]
  },
  {
   "cell_type": "markdown",
   "id": "dcfd4c95-9754-4079-9169-e9d0953ecf1c",
   "metadata": {},
   "source": [
    "## What subject is your data about? What is the source of your data? "
   ]
  },
  {
   "cell_type": "markdown",
   "id": "c07e66ab-f16e-4e6d-b139-58340065f6a8",
   "metadata": {},
   "source": [
    "### Answer:\n",
    "- This dataset contains statistics on the world's billionaires, including information about their businesses, industries, and personal details. It provides insights into the wealth distribution, business sectors, and demographics of billionaires worldwide..\n",
    "- Soure of data: dataset is collected from Kaggle.\n",
    "- Link of dataset: [Dataset](https://www.kaggle.com/datasets/nelgiriyewithana/billionaires-statistics-dataset?fbclid=IwAR0azXwWYe5S4bL8JTSkjYXT1GnO1v7rhBCWYKmr9XYSMV2G5jhp5T8VmEE_aem_AXCtOnqgJOuvjiETkQgRP-X-4A6f5Ld7TPRQWMBh3qDjE8M60Ao1QkufuTugcL8Dp7aS_DKHIs_Qw3OD-LCwQkNb)"
   ]
  },
  {
   "cell_type": "markdown",
   "id": "722496ab-852d-4e29-9d04-d5dbfb7298e6",
   "metadata": {},
   "source": [
    "## Do authors of this data allow you to use like this?"
   ]
  },
  {
   "cell_type": "markdown",
   "id": "afd2bfae-489c-4626-8479-90a433fb4f70",
   "metadata": {},
   "source": [
    "### Answer:\n",
    "- **License CC BY 4.0 DEED**\n",
    "  - Share — copy and redistribute the material in any medium or format for any purpose, even commercially.\n",
    "  - Adapt — remix, transform, and build upon the material for any purpose, even commercially."
   ]
  },
  {
   "cell_type": "code",
   "execution_count": null,
   "id": "a01c8c3e-594d-4d60-b4c8-7f386611359a",
   "metadata": {},
   "outputs": [],
   "source": []
  }
 ],
 "metadata": {
  "kernelspec": {
   "display_name": "Python 3 (ipykernel)",
   "language": "python",
   "name": "python3"
  },
  "language_info": {
   "codemirror_mode": {
    "name": "ipython",
    "version": 3
   },
   "file_extension": ".py",
   "mimetype": "text/x-python",
   "name": "python",
   "nbconvert_exporter": "python",
   "pygments_lexer": "ipython3",
   "version": "3.10.8"
  }
 },
 "nbformat": 4,
 "nbformat_minor": 5
}
