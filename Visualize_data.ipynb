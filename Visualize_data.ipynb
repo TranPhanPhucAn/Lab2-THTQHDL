{
 "cells": [
  {
   "cell_type": "code",
   "execution_count": null,
   "id": "f94d76e8-59c3-4147-a13c-0dc072299283",
   "metadata": {},
   "outputs": [],
   "source": [
    "import numpy as np\n",
    "import pandas as pd\n",
    "import datetime\n",
    "import matplotlib.pyplot as plt\n",
    "import seaborn as sns\n",
    "import geopandas as gpd\n",
    "import warnings\n",
    "from mpl_toolkits.axes_grid1 import make_axes_locatable\n",
    "warnings.simplefilter('ignore')"
   ]
  },
  {
   "cell_type": "markdown",
   "id": "aa4ee374-7367-4b81-bd36-a16ef6f714d1",
   "metadata": {},
   "source": [
    "## Read cleaned data from file"
   ]
  },
  {
   "cell_type": "code",
   "execution_count": null,
   "id": "dde1b93b-8e96-41ea-b122-e95711162e90",
   "metadata": {},
   "outputs": [],
   "source": [
    "cleaned_df = pd.read_csv('data/data_processed.csv')\n",
    "cleaned_df.head(10)"
   ]
  },
  {
   "cell_type": "markdown",
   "id": "cf50647c-daca-4570-981c-353bb06fc3a5",
   "metadata": {},
   "source": [
    "## Question 1: What is the difference between self-made and inherited billionaires?"
   ]
  },
  {
   "cell_type": "markdown",
   "id": "381e1150-c23a-4218-802c-1695a384f255",
   "metadata": {},
   "source": [
    "### Preprocessing"
   ]
  },
  {
   "cell_type": "markdown",
   "id": "ce8fa40d-a793-4090-8d55-bd5776b9e81f",
   "metadata": {},
   "source": [
    "I will get the necessary attributes to serve the task of processing and answering questions"
   ]
  },
  {
   "cell_type": "code",
   "execution_count": null,
   "id": "63ae4945-5068-4e46-a953-f767b2ef7744",
   "metadata": {},
   "outputs": [],
   "source": [
    "df = cleaned_df[['rank', 'finalWorth', 'selfMade', 'country']]\n",
    "df"
   ]
  },
  {
   "cell_type": "markdown",
   "id": "6e12bd1d-fb7f-4160-a1ec-79427d9d92c5",
   "metadata": {},
   "source": [
    "### Analyze data to answer the question?"
   ]
  },
  {
   "cell_type": "markdown",
   "id": "a3a4999c-e885-444b-bd81-fd646f9956c3",
   "metadata": {},
   "source": [
    "#### Comparison of inherited vs self-made billionaires"
   ]
  },
  {
   "cell_type": "markdown",
   "id": "70fd1cee-8ab9-4a6e-b42c-768fb83ec181",
   "metadata": {},
   "source": [
    "Calculate number of inherited and self-made billionaries"
   ]
  },
  {
   "cell_type": "code",
   "execution_count": null,
   "id": "6e9941c8-fbcb-44bc-a800-2c512f7c7492",
   "metadata": {},
   "outputs": [],
   "source": [
    "number_inherited = sum(df['selfMade'] == 0)\n",
    "number_self_made = sum(df['selfMade'] == 1)\n",
    "\n",
    "print(f\"Total Number of inherited billionaires: {number_inherited}\")\n",
    "print(f\"Total Number of self-made billionaires: {number_self_made}\")"
   ]
  },
  {
   "cell_type": "code",
   "execution_count": null,
   "id": "07b6fba0-2890-4e95-b20d-9fdfe48ac329",
   "metadata": {},
   "outputs": [],
   "source": [
    "data = [number_inherited, number_self_made]\n",
    "labels = ['Inherited Billionaires', 'Self-Made Billionaires']"
   ]
  },
  {
   "cell_type": "code",
   "execution_count": null,
   "id": "21247c1e-c090-4fb1-bed8-0da02250bf36",
   "metadata": {},
   "outputs": [],
   "source": [
    "plt.figure(figsize=(12, 8))\n",
    "bars = plt.bar(labels, data, color=['blue', 'orange'])\n",
    "\n",
    "for bar in bars:\n",
    "    yval = bar.get_height()\n",
    "    plt.text(bar.get_x() + bar.get_width()/2, yval + 10, yval, ha='center', va='bottom')\n",
    "\n",
    "plt.title('Comparison of inherited vs self-made billionaires')\n",
    "plt.ylabel('Number of billionaires')\n",
    "plt.grid(axis='y', linestyle='-', alpha=0.7)\n",
    "\n",
    "plt.show()"
   ]
  },
  {
   "cell_type": "code",
   "execution_count": null,
   "id": "407bc396-b7e5-4cf8-851f-46e317f0bbe9",
   "metadata": {},
   "outputs": [],
   "source": [
    "plt.pie(data, labels=labels, autopct=\"%1.1f%%\")\n",
    "plt.title(\"Ratio of inherited vs self-made billionaires\")\n",
    "plt.legend()\n",
    "plt.show()"
   ]
  },
  {
   "cell_type": "markdown",
   "id": "b946987b-acd1-4a63-b52f-1bab439576c4",
   "metadata": {},
   "source": [
    "It can be seen that the ratio between inherited and self-made billionaires is quite different. It seems like there are a lot more self-made billionaires these days."
   ]
  },
  {
   "cell_type": "markdown",
   "id": "8c4beb71-fe2f-4d7b-ab25-fcb94465ec87",
   "metadata": {},
   "source": [
    "#### FinalWorth average of inherited and self-made billionaires"
   ]
  },
  {
   "cell_type": "markdown",
   "id": "8f35042f-bebc-4c10-a502-7c1c594c5c93",
   "metadata": {},
   "source": [
    "- Because the odds are quite large, I will use average assets for comparison.\n",
    "- Because the data set is so large, I only used individuals have finalWorth > 10000."
   ]
  },
  {
   "cell_type": "code",
   "execution_count": null,
   "id": "cbf870e2-4354-49f6-a556-0c37ee4369e8",
   "metadata": {},
   "outputs": [],
   "source": [
    "df = df[df['finalWorth'] > 10000]\n",
    "df"
   ]
  },
  {
   "cell_type": "code",
   "execution_count": null,
   "id": "29608648-aed4-4539-92fb-19b689ef62ff",
   "metadata": {},
   "outputs": [],
   "source": [
    "number_inherited = sum(df['selfMade'] == 0)\n",
    "number_self_made = sum(df['selfMade'] == 1)\n",
    "\n",
    "sum_inherited_worth = sum(df[df['selfMade'] == 0]['finalWorth'])\n",
    "sum_self_made = sum(df[df['selfMade'] == 1]['finalWorth'])\n",
    "\n",
    "average_inherited = sum_inherited_worth / number_inherited\n",
    "average_self_made = sum_self_made / number_self_made\n",
    "\n",
    "print(f\"Average worth of inherited billionaires: {average_inherited}\")\n",
    "print(f\"Average worth self-made billionaires: {average_self_made}\")"
   ]
  },
  {
   "cell_type": "code",
   "execution_count": null,
   "id": "162ba590-1969-4499-bc0b-5ceee403750e",
   "metadata": {},
   "outputs": [],
   "source": [
    "data = [sum_inherited_worth, sum_self_made]\n",
    "labels = ['Inherited Billionaires', 'Self-Made Billionaires']"
   ]
  },
  {
   "cell_type": "code",
   "execution_count": null,
   "id": "50d61cc6-89ab-40dc-b840-4f189a71d5d5",
   "metadata": {},
   "outputs": [],
   "source": [
    "plt.pie(data, labels=labels, autopct=\"%1.1f%%\")\n",
    "plt.title(\"Ratio of inherited vs self-made billionaires\")\n",
    "plt.legend()\n",
    "plt.show()"
   ]
  },
  {
   "cell_type": "code",
   "execution_count": null,
   "id": "8e45cdf1-d18d-4129-a105-57cf14fcbfa7",
   "metadata": {},
   "outputs": [],
   "source": [
    "data = [average_inherited, average_self_made]\n",
    "\n",
    "plt.figure(figsize=(12, 8))\n",
    "bars = plt.bar(labels, data, color=['blue', 'orange'])\n",
    "\n",
    "for bar in bars:\n",
    "    yval = bar.get_height()\n",
    "    plt.text(bar.get_x() + bar.get_width()/2, yval + 10, yval, ha='center', va='bottom')\n",
    "\n",
    "plt.title('Comparison of inherited vs self-made billionaires')\n",
    "plt.ylabel('Number of billionaires')\n",
    "plt.grid(axis='y', linestyle='-', alpha=0.7)\n",
    "\n",
    "plt.show()"
   ]
  },
  {
   "cell_type": "markdown",
   "id": "08e17214-9831-44de-bf5d-acece863af83",
   "metadata": {},
   "source": [
    "After eliminating billionaires with FinalWorth > 10000, we can see that the ratio between heirs and self-made billionaires remains unchanged. But the average value of inherited billionaires is slightly greater than that of self-made billionaires."
   ]
  },
  {
   "cell_type": "markdown",
   "id": "554981d3-410f-4686-b3c4-19b9840c8395",
   "metadata": {},
   "source": [
    "#### Average finalWorth of countries for billionaires with finalWorth > 10000"
   ]
  },
  {
   "cell_type": "code",
   "execution_count": null,
   "id": "a6f607d3-f404-4536-9a5b-ce0bd347d743",
   "metadata": {},
   "outputs": [],
   "source": [
    "avg_wealth_country = df[df['selfMade'] == 0].groupby('country')['finalWorth'].mean().sort_values(ascending=False)\n",
    "plt.figure(figsize=(12, 8))\n",
    "avg_wealth_country.plot(kind='bar')\n",
    "plt.title('Average worth of inherited billionaires by country')\n",
    "plt.xlabel('Country')\n",
    "plt.ylabel('Average Wealth (in billions)')\n",
    "plt.show()"
   ]
  },
  {
   "cell_type": "code",
   "execution_count": null,
   "id": "dc7f53c4-44b6-489b-9ab6-9f99cc17e211",
   "metadata": {},
   "outputs": [],
   "source": [
    "avg_wealth_country = df[df['selfMade'] == 1].groupby('country')['finalWorth'].mean().sort_values(ascending=False)\n",
    "plt.figure(figsize=(12, 8))\n",
    "avg_wealth_country.plot(kind='bar')\n",
    "plt.title('Average worth of self-made billionaires by country')\n",
    "plt.xlabel('Country')\n",
    "plt.ylabel('Average Wealth (in billions)')\n",
    "plt.show()"
   ]
  },
  {
   "cell_type": "markdown",
   "id": "c26456d3-90af-41c3-bad0-b683a0e9e775",
   "metadata": {},
   "source": [
    "**Conclusion**:\n",
    "- The number of self-made billionaires is greater than the number of inherited billionaires.\n",
    "- Even so, when comparing the average worth between them, we can see that the inherited billionaires people do not own less worth, but sometimes even possess more worth.\n",
    "- It can be seen that self-made billionaires and inherited billionaires are distributed in different countries.\n",
    "- We see that in the top 4 countries with the highest average worth for billionaires with worth > 10,000:\n",
    "    - Inherited billionaires: France, Canada, Belgium, Australia. It may be because there are some problems related to families with status that have existed from previous eras to the present.\n",
    "    - Self-made billionaire: Mexico, Spain, France, United States. In particular, in the top 7 billionaires of this data set, there are 6 billionaires from the United States, but because the data set is quite large, when considering the average value, the United States has fallen to the top 4."
   ]
  },
  {
   "cell_type": "markdown",
   "id": "b7d7402f-905c-4351-9f4d-024b1d51bb7a",
   "metadata": {},
   "source": [
    "## Question 2: What age and gender have most billionaires?"
   ]
  },
  {
   "cell_type": "markdown",
   "id": "55e02967-744b-4966-a70e-670a9cf1b63f",
   "metadata": {},
   "source": [
    "### Age distribution of billionaires"
   ]
  },
  {
   "cell_type": "code",
   "execution_count": null,
   "id": "32f71212-6dd4-4050-94f9-6fe9c1bc749d",
   "metadata": {},
   "outputs": [],
   "source": [
    "plt.hist(cleaned_df['age'], bins=10, color='skyblue', edgecolor='black')\n",
    "\n",
    "plt.title('Histogram of Age')\n",
    "plt.xlabel('Age')\n",
    "plt.ylabel('Number of billionaires')\n",
    "\n",
    "plt.show()"
   ]
  },
  {
   "cell_type": "markdown",
   "id": "b1292e4b-5cc3-4642-b67a-bdcc13739e69",
   "metadata": {},
   "source": [
    "- We can see the number of billionaires between 50 and 80 years old is the largest.\n",
    "- the average age of billionaires tended to vary depending on factors such as industry and region. In many cases, billionaires are older individuals who have had time to accumulate wealth through successful careers, businesses, or investments. However, there are also younger billionaires, particularly in industries like technology and finance, where rapid wealth accumulation is possible."
   ]
  },
  {
   "cell_type": "markdown",
   "id": "73c9d5c9-8ee1-464e-8ba6-be0d6a51e5cc",
   "metadata": {},
   "source": [
    "### Gender distribution of billionaires"
   ]
  },
  {
   "cell_type": "code",
   "execution_count": null,
   "id": "e3a4ed0b-b528-417a-b7b7-56d8cf656bf2",
   "metadata": {},
   "outputs": [],
   "source": [
    "gender_counts = cleaned_df['gender'].value_counts()\n",
    "\n",
    "plt.barh(gender_counts.index, gender_counts.values, color=['blue', 'pink'])\n",
    "\n",
    "plt.title('Number of men and women who are billionaires')\n",
    "plt.xlabel('Gender')\n",
    "plt.ylabel('Number')\n",
    "\n",
    "plt.show()"
   ]
  },
  {
   "cell_type": "markdown",
   "id": "20339c98-35ee-4e71-992c-4ae07ddd990f",
   "metadata": {},
   "source": [
    "- There have been significantly more male billionaires than female billionaires.\n",
    "- Factors contributing to the gender gap in billionaire status include systemic biases in various industries and sectors, as well as cultural and societal factors that have historically disadvantaged women in terms of access to education, capital, and opportunities for advancement."
   ]
  },
  {
   "cell_type": "markdown",
   "id": "fb9e71ff-7669-480c-8d4a-7452d2443801",
   "metadata": {},
   "source": [
    "### Distribution of the number of billionaires by age and gender"
   ]
  },
  {
   "cell_type": "code",
   "execution_count": null,
   "id": "c4b0e8b1-d69b-448a-8f2e-457549892ab7",
   "metadata": {},
   "outputs": [],
   "source": [
    "age_bins = [0, 30, 40, 50, 60, 70, float('inf')]  # range of age\n",
    "age_labels = ['0-30', '31-40', '41-50', '51-60', '61-70', '71+']  # label for each range age\n",
    "cleaned_df['Age_Group'] = pd.cut(cleaned_df['age'], bins=age_bins, labels=age_labels, right=False)\n",
    "\n",
    "\n",
    "grouped_data = cleaned_df.groupby(['Age_Group', 'gender']).size().unstack(fill_value=0)\n",
    "grouped_data.plot(kind='bar', stacked=True, figsize=(10, 6))\n",
    "plt.xlabel('Age')\n",
    "plt.ylabel('Number of billionairs')\n",
    "plt.title('Number billionairs by age and gender')\n",
    "plt.legend(title='Gender')\n",
    "plt.xticks(rotation=0)\n",
    "plt.show()"
   ]
  },
  {
   "cell_type": "markdown",
   "id": "953f131c-b0c4-42b6-91d1-8ee55018698c",
   "metadata": {},
   "source": [
    "- The majority of billionaires tend to be older males. This demographic trend is a result of various factors, including historical inequalities, access to opportunities, and societal structures that have favored certain demographics."
   ]
  },
  {
   "cell_type": "markdown",
   "id": "0d4ed47d-16d3-4d41-a655-3bb6b6ee0456",
   "metadata": {},
   "source": [
    "### Top 10 countries with the highest number of billionaires by gender"
   ]
  },
  {
   "cell_type": "code",
   "execution_count": null,
   "id": "aed42fbc-6eb7-4f55-a53e-ef93ec045a35",
   "metadata": {},
   "outputs": [],
   "source": [
    "grouped = cleaned_df.groupby(['countryOfCitizenship','gender']).size().unstack(fill_value=0)\n",
    "new_df = grouped.reset_index()\n",
    "total_phus_by_country = new_df.groupby('countryOfCitizenship').sum().sum(axis=1)\n",
    "top_10_countries = total_phus_by_country.nlargest(10).index\n",
    "top_10_df = new_df[new_df['countryOfCitizenship'].isin(top_10_countries)]\n",
    "top_10_df.set_index('countryOfCitizenship',inplace =True)\n",
    "top_10_df.plot(kind='bar', stacked = True)\n",
    "plt.title('Top 10 countries with the highest number of billionaires by gender')\n",
    "plt.xlabel('Country')\n",
    "plt.ylabel('Number of billionaires')"
   ]
  },
  {
   "cell_type": "markdown",
   "id": "47908b53-62ed-4184-a730-877a48b67f37",
   "metadata": {},
   "source": [
    "- There is often a significant difference in the number of male and female billionaires in most countries, with the proportion of male billionaires usually higher.\n",
    "- This gap may reflect disparities in rights and opportunities between men and women in fields such as business, technology, and finance. The influence of cultural, social, and political factors also plays a significant role."
   ]
  },
  {
   "cell_type": "markdown",
   "id": "f869b92f-ab79-44aa-bc93-4e54be9ce5b3",
   "metadata": {},
   "source": [
    "### Conclusion\n",
    "- Gender Disparity: There is a noticeable gender disparity among billionaires, with men typically outnumbering women. This gap may reflect systemic biases and disparities in opportunities between genders in various industries and regions.\n",
    "- Intersectionality: The intersection of age and gender further complicates the analysis. For example, there may be differences in the age distribution of male and female billionaires, with men tending to be older on average when they achieve billionaire status compared to women.\n",
    "- Cultural and Societal Factors: Cultural and societal factors also play a significant role in shaping the number of billionaires by age and gender. These factors influence access to education, capital, networks, and opportunities for wealth accumulation."
   ]
  },
  {
   "cell_type": "markdown",
   "id": "5036adad-a8f5-4e50-a48c-e8b3e03a7a80",
   "metadata": {},
   "source": [
    "## Question 3: What is the geographical dispersion of billionaires worldwide?"
   ]
  },
  {
   "cell_type": "markdown",
   "id": "ad95ce70-1f6b-41ab-b471-7938e8d689bf",
   "metadata": {},
   "source": [
    "**Count number of billionaires of each country**"
   ]
  },
  {
   "cell_type": "code",
   "execution_count": null,
   "id": "ebd87779-cb43-45be-8fb4-770b842b0c61",
   "metadata": {},
   "outputs": [],
   "source": [
    "country_df = cleaned_df.groupby(['country']).size().reset_index(name='count')\n",
    "country_df"
   ]
  },
  {
   "cell_type": "code",
   "execution_count": null,
   "id": "c5d0d7b6-838c-453a-b76b-677f59e38dfc",
   "metadata": {},
   "outputs": [],
   "source": [
    "country_df.sort_values(by='count', ascending=False)"
   ]
  },
  {
   "cell_type": "markdown",
   "id": "ed8a3cac-8375-443d-aca8-6c9667639928",
   "metadata": {},
   "source": [
    "**Processing data and merge to draw world map**"
   ]
  },
  {
   "cell_type": "code",
   "execution_count": null,
   "id": "26fe76fc-e539-493c-89a7-158d161c9bfd",
   "metadata": {},
   "outputs": [],
   "source": [
    "country_mapping = {\n",
    "    'United States': 'United States of America',\n",
    "}\n",
    "country_df['standard_country'] = country_df['country'].map(country_mapping)\n",
    "\n",
    "country_df['standard_country'].fillna(country_df['country'], inplace=True)"
   ]
  },
  {
   "cell_type": "code",
   "execution_count": null,
   "id": "5290c828-31c9-4570-888b-5d8c8221dcf6",
   "metadata": {},
   "outputs": [],
   "source": [
    "world = gpd.read_file(gpd.datasets.get_path('naturalearth_lowres'))\n",
    "world = world.merge(country_df, how='left', left_on='name', right_on='standard_country')\n",
    "world['count'].fillna(0, inplace=True)\n",
    "world"
   ]
  },
  {
   "cell_type": "code",
   "execution_count": null,
   "id": "290d4e93-3581-4f15-a271-9d1ffe8201cb",
   "metadata": {},
   "outputs": [],
   "source": [
    "fig, ax = plt.subplots(figsize=(15, 10))\n",
    "\n",
    "divider = make_axes_locatable(ax)\n",
    "plt.grid(which='both', color='gray', linewidth=0.1)\n",
    "cax = divider.append_axes(\"bottom\", size=\"5%\", pad=0.4)\n",
    "\n",
    "world.plot(column='count', cmap='viridis', legend=True, ax=ax, cax=cax,\n",
    "                 legend_kwds={\"label\": \"Number of billionaires\", \"orientation\": \"horizontal\"})\n",
    "\n",
    "plt.tight_layout()\n",
    "plt.show()"
   ]
  },
  {
   "cell_type": "markdown",
   "id": "d814ce85-7e6e-4ef6-8552-5c1b31d6133b",
   "metadata": {},
   "source": [
    "- From world map, we can see that the billionaires are mostly from the US, China, and India.\n",
    "- How GDP of countries which have many billionaires?\n",
    "  \n",
    "- Now let's see GDP and get some insights."
   ]
  },
  {
   "cell_type": "code",
   "execution_count": null,
   "id": "49c02e4e-7123-40cf-a37c-c34c67b8dc3b",
   "metadata": {},
   "outputs": [],
   "source": [
    "gdp_countries_df = cleaned_df.groupby(['country'])['gdp_country'].mean()\n",
    "top_10_gdp_countries = gdp_countries_df.nlargest(10).reset_index()  # Selecting top 10 countries by mean GDP\n",
    "\n",
    "plt.figure(figsize=(10, 6))\n",
    "sns.barplot(data=top_10_gdp_countries, x='country', y='gdp_country', palette='viridis')\n",
    "plt.xlabel('Country')\n",
    "plt.ylabel('Mean GDP')\n",
    "plt.title('Top 10 Countries by Mean GDP')\n",
    "plt.xticks(rotation=45)  # Rotate x-axis labels for better readability\n",
    "plt.tight_layout()  # Adjust layout to prevent cutting off labels\n",
    "plt.show()\n"
   ]
  },
  {
   "cell_type": "markdown",
   "id": "52c635f9-ce6f-44ab-9ecf-f2f5345dfbf8",
   "metadata": {},
   "source": [
    "- US, China also has the highest GDP\n",
    "- There are several Europe's countries in top 10 GDP"
   ]
  },
  {
   "cell_type": "code",
   "execution_count": null,
   "id": "c28965ea-23c4-46f6-9027-0937805e8b8c",
   "metadata": {},
   "outputs": [],
   "source": [
    "country_df = cleaned_df.groupby('country').agg(count=('gdp_country', 'size'), gdp=('gdp_country', 'mean')).reset_index()\n",
    "\n",
    "print(country_df)"
   ]
  },
  {
   "cell_type": "markdown",
   "id": "3fa64db5-2402-4e52-bab1-060e0b0564ce",
   "metadata": {},
   "source": [
    "**Correlation between number of billionaires and GDP of each country**"
   ]
  },
  {
   "cell_type": "code",
   "execution_count": null,
   "id": "b5bf5300-66d0-4738-b8c8-846263ca2576",
   "metadata": {},
   "outputs": [],
   "source": [
    "correlation_matrix = country_df.drop(columns='country').corr()\n",
    "correlation_matrix['count']['gdp']"
   ]
  },
  {
   "cell_type": "markdown",
   "id": "17ff8d9f-09bc-4018-91c9-6656c22883d4",
   "metadata": {},
   "source": [
    "- 0.968/1 is too high "
   ]
  },
  {
   "cell_type": "markdown",
   "id": "1f557b0f-96fd-4975-a505-70e44f5eb61d",
   "metadata": {},
   "source": [
    "- America have the bigest number of billionaires, which industry has the most of billionaires in American?"
   ]
  },
  {
   "cell_type": "code",
   "execution_count": null,
   "id": "89876595-f17c-4ef7-9a60-24ef86198560",
   "metadata": {},
   "outputs": [],
   "source": [
    "american_billionaires = cleaned_df[cleaned_df['country'] == 'United States']\n",
    "\n",
    "industry_counts = american_billionaires['industries'].value_counts()\n",
    "\n",
    "plt.figure(figsize=(10, 8))\n",
    "plt.pie(industry_counts, labels=industry_counts.index, autopct='%1.1f%%', startangle=140)\n",
    "plt.title('Distribution of Industries Among American Billionaires')\n",
    "plt.axis('equal')  \n",
    "plt.show()"
   ]
  },
  {
   "cell_type": "markdown",
   "id": "646a6097-db33-4a91-88c4-d4864ae50395",
   "metadata": {},
   "source": [
    "- The finance & investments industry stands out as the leading sector, with the highest number of billionaires. This observation underscores the significant role of financial services, investment management, and wealth accumulation activities in the American economy.\n",
    "- Technology emerges as the second most prominent industry, with a substantial number of billionaires. This reflects the impact of technological innovation, entrepreneurship, and the success of tech companies in generating wealth for individuals.\n",
    "- While finance & investments and technology sectors lead in terms of billionaire count, there is a diverse range of industries represented among American billionaires. Industries such as food & beverage, fashion & retail, real estate, and media & entertainment also have notable billionaire presence, highlighting the diverse economic landscape of the United States.\n",
    "- Industries such as energy, sports, and gambling & casinos have a notable presence among American billionaires, indicating opportunities for wealth creation in these sectors. The inclusion of emerging industries reflects the dynamic nature of the American economy and its ability to adapt to changing market trends and consumer preferences."
   ]
  },
  {
   "cell_type": "markdown",
   "id": "2caf4c00-057a-4d51-85c9-52de4b23c8fa",
   "metadata": {},
   "source": [
    "**Conclusion**\n",
    "\n",
    "- The strong positive correlation suggests that countries with a higher GDP tend to have more billionaires. This indicates that economic activity and wealth generation in a country contribute significantly to the number of billionaires it produces.\n",
    "- A high number of billionaires in a country can be seen as a reflection of its economic growth and entrepreneurial environment. Countries with robust economies and favorable business conditions are more likely to foster the creation of wealth and attract entrepreneurs.\n",
    "- \n",
    "While a high GDP may lead to the creation of more billionaires, it's essential to consider the distribution of wealth within a country. A high concentration of billionaires may indicate disparities in wealth distribution, which can have social and economic implications\n",
    "- Both the finance & investments and technology sectors play crucial roles in job creation and economic development. The presence of billionaires in these sectors signifies their contribution to employment generation, technological innovation, and overall economic prosperity in the United States.."
   ]
  }
 ],
 "metadata": {
  "kernelspec": {
   "display_name": "Python 3 (ipykernel)",
   "language": "python",
   "name": "python3"
  },
  "language_info": {
   "codemirror_mode": {
    "name": "ipython",
    "version": 3
   },
   "file_extension": ".py",
   "mimetype": "text/x-python",
   "name": "python",
   "nbconvert_exporter": "python",
   "pygments_lexer": "ipython3",
   "version": "3.10.8"
  }
 },
 "nbformat": 4,
 "nbformat_minor": 5
}
